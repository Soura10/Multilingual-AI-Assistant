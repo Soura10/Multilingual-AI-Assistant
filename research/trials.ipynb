{
 "cells": [
  {
   "cell_type": "code",
   "execution_count": 1,
   "metadata": {},
   "outputs": [],
   "source": [
    "import os"
   ]
  },
  {
   "cell_type": "code",
   "execution_count": 2,
   "metadata": {},
   "outputs": [],
   "source": [
    "import google.generativeai as genai"
   ]
  },
  {
   "cell_type": "code",
   "execution_count": 3,
   "metadata": {},
   "outputs": [],
   "source": [
    "genai.configure(api_key=os.environ[\"GOOGLE_API_KEY\"])"
   ]
  },
  {
   "cell_type": "code",
   "execution_count": null,
   "metadata": {},
   "outputs": [],
   "source": [
    "model = genai.GenerativeModel(\"gemini-1.5-flash\")"
   ]
  },
  {
   "cell_type": "code",
   "execution_count": 5,
   "metadata": {},
   "outputs": [],
   "source": [
    "text = \"what is vertex ai?\""
   ]
  },
  {
   "cell_type": "code",
   "execution_count": 6,
   "metadata": {},
   "outputs": [],
   "source": [
    "r = model.generate_content(text)"
   ]
  },
  {
   "cell_type": "code",
   "execution_count": 7,
   "metadata": {},
   "outputs": [
    {
     "name": "stdout",
     "output_type": "stream",
     "text": [
      "Vertex AI is Google Cloud's unified machine learning (ML) platform.  It's a single platform that brings together various Google Cloud's ML tools and services, making it easier for developers and data scientists to build, deploy, and manage machine learning models at scale.\n",
      "\n",
      "Here's a breakdown of what it offers:\n",
      "\n",
      "* **Unified platform:**  Instead of using disparate tools, Vertex AI provides a central hub for all your ML needs, from data preparation and model training to deployment and monitoring. This simplifies workflows and reduces the complexity of managing multiple services.\n",
      "\n",
      "* **Model building:**  Offers tools to build custom models using various frameworks like TensorFlow, PyTorch, and XGBoost. It also includes pre-trained models and AutoML capabilities for automating model building, even for users with limited ML expertise.\n",
      "\n",
      "* **Model training:**  Provides scalable and managed training infrastructure, allowing you to train models on large datasets efficiently.  It supports different hardware accelerators like GPUs and TPUs for faster training times.\n",
      "\n",
      "* **Model deployment:**  Facilitates deploying models easily, whether it's to serve predictions online, offline batch processing, or mobile/edge devices.  It offers options for various deployment environments and scales automatically based on demand.\n",
      "\n",
      "* **Model monitoring and management:**  Enables continuous monitoring of deployed models to track performance, detect anomalies, and ensure model quality over time. It also offers tools for model versioning, rollback, and management of model lifecycle.\n",
      "\n",
      "* **Data management:**  Integrates with other Google Cloud services for data storage and management, like BigQuery and Dataproc, ensuring seamless data flow throughout the ML pipeline.\n",
      "\n",
      "* **Pre-trained APIs:** Offers access to a range of pre-trained models and APIs for common ML tasks like natural language processing (NLP), computer vision, and structured data analysis.  This allows developers to quickly integrate ML capabilities into their applications without building models from scratch.\n",
      "\n",
      "In essence, Vertex AI aims to streamline the entire machine learning lifecycle, making it accessible to a wider range of users while offering the power and scalability needed for large-scale projects.  It's designed to handle both simple and complex ML tasks, from building small models for specific business problems to deploying and managing large-scale, production-ready AI systems.\n",
      "\n"
     ]
    }
   ],
   "source": [
    "print(r.text)"
   ]
  },
  {
   "cell_type": "code",
   "execution_count": null,
   "metadata": {},
   "outputs": [],
   "source": []
  }
 ],
 "metadata": {
  "kernelspec": {
   "display_name": "Python 3",
   "language": "python",
   "name": "python3"
  },
  "language_info": {
   "codemirror_mode": {
    "name": "ipython",
    "version": 3
   },
   "file_extension": ".py",
   "mimetype": "text/x-python",
   "name": "python",
   "nbconvert_exporter": "python",
   "pygments_lexer": "ipython3",
   "version": "3.9.21"
  }
 },
 "nbformat": 4,
 "nbformat_minor": 2
}
